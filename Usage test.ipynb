{
 "cells": [
  {
   "cell_type": "markdown",
   "id": "9350ab85-10d3-430c-b8fa-b8ac542db121",
   "metadata": {},
   "source": [
    "# Usage"
   ]
  },
  {
   "cell_type": "code",
   "execution_count": 27,
   "id": "a1a59351-45fe-4078-b63e-a78c17b734f3",
   "metadata": {},
   "outputs": [
    {
     "name": "stdout",
     "output_type": "stream",
     "text": [
      "The autoreload extension is already loaded. To reload it, use:\n",
      "  %reload_ext autoreload\n"
     ]
    }
   ],
   "source": [
    "import numpy as np\n",
    "import matplotlib.pyplot as plt\n",
    "import napari\n",
    "import os\n",
    "from MGFeatures import ER_length, img_from_tiles, label_cells, mask_it, draw_bbox, get_ratio\n",
    "from skimage import io\n",
    "import gc\n",
    "from skimage.measure import regionprops\n",
    "\n",
    "%load_ext autoreload\n",
    "%autoreload 2"
   ]
  },
  {
   "cell_type": "code",
   "execution_count": null,
   "id": "e53d2daa-c27e-4191-bbde-16c407624323",
   "metadata": {},
   "outputs": [],
   "source": [
    "properties = {}"
   ]
  },
  {
   "cell_type": "code",
   "execution_count": 3,
   "id": "5b8d7e42-304b-467f-a789-e03b6fe0549f",
   "metadata": {
    "tags": []
   },
   "outputs": [],
   "source": [
    "#single slice usage\n",
    "folder = r'C:\\Users\\hanyi\\Documents\\MG\\Cell_s1'\n",
    "cells = img_from_tiles(folder, 1)"
   ]
  },
  {
   "cell_type": "code",
   "execution_count": 20,
   "id": "2e04e100-7eb1-4078-9179-fc9e699c1439",
   "metadata": {},
   "outputs": [],
   "source": [
    "#multi slice usage - total number slices known\n",
    "folder = r'C:\\Users\\hanyi\\Documents\\MG\\ER'\n",
    "#ER = [img_from_tiles(folder, i) for i in range(17)]\n",
    "#ER = (img_from_tiles(folder, i) for i in range(17)) # if memory error\n",
    "ER = img_from_tiles(folder, 1)"
   ]
  },
  {
   "cell_type": "code",
   "execution_count": 4,
   "id": "05e1d305-a0d1-4ec0-a801-83e315394233",
   "metadata": {},
   "outputs": [
    {
     "data": {
      "text/plain": [
       "1172"
      ]
     },
     "execution_count": 4,
     "metadata": {},
     "output_type": "execute_result"
    }
   ],
   "source": [
    "labels = label_cells(cells)\n",
    "del cells\n",
    "gc.collect()"
   ]
  },
  {
   "cell_type": "markdown",
   "id": "501c417d-2477-4828-ac7d-e34ae40dca36",
   "metadata": {},
   "source": [
    "## ER length"
   ]
  },
  {
   "cell_type": "code",
   "execution_count": 21,
   "id": "fe63ee57-d9f4-4532-8db8-3d2e9366f128",
   "metadata": {
    "tags": []
   },
   "outputs": [],
   "source": [
    "#properties = {} #to be added to main function global variable\n",
    "ER_lengths = ER_length(ER[20000:30000, 20000:30000], labels[20000:30000, 20000:30000])"
   ]
  },
  {
   "cell_type": "code",
   "execution_count": 35,
   "id": "927b43b6-5963-4544-8454-f9d412ce6014",
   "metadata": {},
   "outputs": [],
   "source": [
    "properties['ER_lengths'] = ER_lengths"
   ]
  },
  {
   "cell_type": "markdown",
   "id": "0ec85201-1f74-4eb7-9fb4-42e3a623ef16",
   "metadata": {},
   "source": [
    "## Area, ratio"
   ]
  },
  {
   "cell_type": "code",
   "execution_count": 5,
   "id": "3f8cf067-a148-4075-8851-06a629ee4a0f",
   "metadata": {},
   "outputs": [],
   "source": [
    "folder = r'C:\\Users\\hanyi\\Documents\\MG\\organelles_cyto'\n",
    "organelles = img_from_tiles(folder, 1)"
   ]
  },
  {
   "cell_type": "code",
   "execution_count": 6,
   "id": "2df95e20-9b77-47a5-8767-f9209adf684a",
   "metadata": {},
   "outputs": [],
   "source": [
    "organelles_labels = mask_it(labels[20000:30000, 20000:30000], organelles[20000:30000, 20000:30000]) #subset of slice, memory error "
   ]
  },
  {
   "cell_type": "code",
   "execution_count": 28,
   "id": "210177c3-6d28-409c-aa2c-cd788e3711cc",
   "metadata": {},
   "outputs": [],
   "source": [
    "properties['organelle_ratio'] = []"
   ]
  },
  {
   "cell_type": "code",
   "execution_count": 32,
   "id": "93b93c87-2704-496c-abf8-036c9a1e703f",
   "metadata": {},
   "outputs": [
    {
     "name": "stdout",
     "output_type": "stream",
     "text": [
      "CPU times: total: 12.8 s\n",
      "Wall time: 12.8 s\n"
     ]
    }
   ],
   "source": [
    "%%time\n",
    "organelle_cell_ratio = get_ratio(organelles_labels, labels[20000:30000, 20000:30000])\n",
    "properties['organelle_ratio'] = organelle_cell_ratio"
   ]
  },
  {
   "cell_type": "markdown",
   "id": "08d03a0c-a099-4c69-b4d7-394926232b6f",
   "metadata": {},
   "source": [
    "## visualisation"
   ]
  },
  {
   "cell_type": "code",
   "execution_count": 9,
   "id": "5c9f7495-d64b-4e19-92c4-d96888a51c60",
   "metadata": {},
   "outputs": [],
   "source": [
    "bbox_rects = []\n",
    "for region in regionprops(labels[20000:30000, 20000:30000]):\n",
    "    bbox = region.bbox\n",
    "    bbox_rect = draw_bbox(bbox)\n",
    "    bbox_rects.append(bbox_rect)"
   ]
  },
  {
   "cell_type": "code",
   "execution_count": 10,
   "id": "8547e129-39d5-4503-8633-e1f6a95a1d58",
   "metadata": {
    "tags": []
   },
   "outputs": [
    {
     "data": {
      "text/plain": [
       "<Image layer 'Image' at 0x1ed80b60460>"
      ]
     },
     "execution_count": 10,
     "metadata": {},
     "output_type": "execute_result"
    }
   ],
   "source": [
    "viewer = napari.view_labels(labels[20000:30000, 20000:30000])\n",
    "viewer.add_image(organelles[20000:30000, 20000:30000])"
   ]
  },
  {
   "cell_type": "code",
   "execution_count": 26,
   "id": "8b785b25-d9ce-467e-bb99-5b45fe3c3416",
   "metadata": {},
   "outputs": [
    {
     "data": {
      "text/plain": [
       "<Image layer 'Image [1]' at 0x1ed91128d00>"
      ]
     },
     "execution_count": 26,
     "metadata": {},
     "output_type": "execute_result"
    }
   ],
   "source": [
    "viewer.add_image(ER[20000:30000, 20000:30000])"
   ]
  },
  {
   "cell_type": "code",
   "execution_count": 36,
   "id": "6a473423-a8a0-4288-b6f1-dd7989ed6948",
   "metadata": {},
   "outputs": [],
   "source": [
    "text_params = {'string':'R: {organelle_ratio:.5f}\\nER: {ER_lengths:.2f}',\n",
    "              'size': 5,\n",
    "              'color': 'gray',\n",
    "              'anchor':'upper_left',\n",
    "              'translation':[0,0]\n",
    "              }"
   ]
  },
  {
   "cell_type": "code",
   "execution_count": 37,
   "id": "d46603cc-c4e0-4e2d-ad00-5f7a7c50b73e",
   "metadata": {
    "tags": []
   },
   "outputs": [
    {
     "data": {
      "text/plain": [
       "<Shapes layer 'Shapes' at 0x1ed9156a380>"
      ]
     },
     "execution_count": 37,
     "metadata": {},
     "output_type": "execute_result"
    }
   ],
   "source": [
    "viewer.add_shapes(data=np.array(bbox_rects),\n",
    "                 properties=properties, #try properties/features\n",
    "                 text=text_params,\n",
    "                 face_color='transparent',\n",
    "                 edge_color='white') # try properties"
   ]
  },
  {
   "cell_type": "code",
   "execution_count": 15,
   "id": "49994ddc-e5be-49b7-850c-e4d081a96db9",
   "metadata": {},
   "outputs": [
    {
     "data": {
      "text/plain": [
       "<Labels layer 'Labels' at 0x1ed873af070>"
      ]
     },
     "execution_count": 15,
     "metadata": {},
     "output_type": "execute_result"
    }
   ],
   "source": [
    "viewer.add_labels(labels[20000:30000, 20000:30000])\n"
   ]
  },
  {
   "cell_type": "code",
   "execution_count": 41,
   "id": "92728356-e00a-478a-82ae-260171b2199c",
   "metadata": {},
   "outputs": [
    {
     "data": {
      "text/plain": [
       "<matplotlib.image.AxesImage at 0x1ed9061d900>"
      ]
     },
     "execution_count": 41,
     "metadata": {},
     "output_type": "execute_result"
    },
    {
     "data": {
      "image/png": "[encoded data removed]",
      "text/plain": [
       "<Figure size 640x480 with 1 Axes>"
      ]
     },
     "metadata": {},
     "output_type": "display_data"
    }
   ],
   "source": [
    "io.imshow(viewer.screenshot(canvas_only=False))"
   ]
  },
  {
   "cell_type": "markdown",
   "id": "ab3d3d8c-6d25-498a-a4d2-103e19a6c446",
   "metadata": {
    "tags": []
   },
   "source": [
    "## trash"
   ]
  },
  {
   "cell_type": "code",
   "execution_count": 9,
   "id": "d9c39113-7d1b-4639-bae0-5edf8a14c1fa",
   "metadata": {},
   "outputs": [
    {
     "ename": "KeyError",
     "evalue": "'ER_length'",
     "output_type": "error",
     "traceback": [
      "\u001b[1;31m---------------------------------------------------------------------------\u001b[0m",
      "\u001b[1;31mKeyError\u001b[0m                                  Traceback (most recent call last)",
      "Input \u001b[1;32mIn [9]\u001b[0m, in \u001b[0;36m<cell line: 1>\u001b[1;34m()\u001b[0m\n\u001b[1;32m----> 1\u001b[0m \u001b[43mproperties\u001b[49m\u001b[43m[\u001b[49m\u001b[38;5;124;43m'\u001b[39;49m\u001b[38;5;124;43mER_length\u001b[39;49m\u001b[38;5;124;43m'\u001b[39;49m\u001b[43m]\u001b[49m\n",
      "\u001b[1;31mKeyError\u001b[0m: 'ER_length'"
     ]
    }
   ],
   "source": [
    "properties['ER_length']"
   ]
  },
  {
   "cell_type": "code",
   "execution_count": 12,
   "id": "5c2b6606-c400-46f9-891d-736fc961c04c",
   "metadata": {},
   "outputs": [
    {
     "data": {
      "text/html": [
       "<pre>numpy.ndarray([ 0  1  2  3  4  5  6  7  8  9 10 11 12 13 14 15 16 17 18 19 20 21 22 23\n",
       " 24 25 26 27 28 29 30 31 32 33 34 35 36 37 38 39 40 41 42 43 44 45 46 47\n",
       " 48 49 50 51 52 53 54 55 56 57 58 59 60 61 62 63 64 65 66 67 68 69 70 71\n",
       " 72 73 74], dtype=uint8)</pre>"
      ],
      "text/plain": [
       "StackViewNDArray([ 0,  1,  2,  3,  4,  5,  6,  7,  8,  9, 10, 11, 12, 13,\n",
       "                  14, 15, 16, 17, 18, 19, 20, 21, 22, 23, 24, 25, 26, 27,\n",
       "                  28, 29, 30, 31, 32, 33, 34, 35, 36, 37, 38, 39, 40, 41,\n",
       "                  42, 43, 44, 45, 46, 47, 48, 49, 50, 51, 52, 53, 54, 55,\n",
       "                  56, 57, 58, 59, 60, 61, 62, 63, 64, 65, 66, 67, 68, 69,\n",
       "                  70, 71, 72, 73, 74], dtype=uint8)"
      ]
     },
     "execution_count": 12,
     "metadata": {},
     "output_type": "execute_result"
    }
   ],
   "source": [
    "np.unique(labels)"
   ]
  },
  {
   "cell_type": "code",
   "execution_count": 76,
   "id": "c92f3729-b3ca-40b9-bfdf-5425b45248de",
   "metadata": {},
   "outputs": [
    {
     "ename": "NameError",
     "evalue": "name 'cells' is not defined",
     "output_type": "error",
     "traceback": [
      "\u001b[1;31m---------------------------------------------------------------------------\u001b[0m",
      "\u001b[1;31mNameError\u001b[0m                                 Traceback (most recent call last)",
      "Input \u001b[1;32mIn [76]\u001b[0m, in \u001b[0;36m<cell line: 1>\u001b[1;34m()\u001b[0m\n\u001b[1;32m----> 1\u001b[0m \u001b[38;5;28;01mdel\u001b[39;00m cells\n\u001b[0;32m      2\u001b[0m gc\u001b[38;5;241m.\u001b[39mcollect()\n",
      "\u001b[1;31mNameError\u001b[0m: name 'cells' is not defined"
     ]
    }
   ],
   "source": [
    "del cells\n",
    "gc.collect()"
   ]
  },
  {
   "cell_type": "code",
   "execution_count": 26,
   "id": "c3d0d448-e271-4df1-a2d6-c6b36b2274ec",
   "metadata": {},
   "outputs": [
    {
     "name": "stdout",
     "output_type": "stream",
     "text": [
      "3.5000001192092896\n",
      "3.5000001415610313\n"
     ]
    }
   ],
   "source": [
    "import sys \n",
    "print(sys.getsizeof(organelles)/(1024**3))\n",
    "print(sys.getsizeof(labels)/(1024**3))"
   ]
  },
  {
   "cell_type": "code",
   "execution_count": null,
   "id": "eb322884-c2fb-4a05-a997-1d0d0a378aae",
   "metadata": {},
   "outputs": [],
   "source": []
  },
  {
   "cell_type": "markdown",
   "id": "a16db832-0b82-438d-b0da-844b4d48b98a",
   "metadata": {},
   "source": [
    "## other useful functions"
   ]
  },
  {
   "cell_type": "code",
   "execution_count": 58,
   "id": "3868bc48-417c-404b-a501-8a0bee959603",
   "metadata": {},
   "outputs": [
    {
     "data": {
      "text/plain": [
       "3.5000001192092896"
      ]
     },
     "execution_count": 58,
     "metadata": {},
     "output_type": "execute_result"
    }
   ],
   "source": [
    "import sys \n",
    "sys.getsizeof(ER)/(1024**3)"
   ]
  },
  {
   "cell_type": "code",
   "execution_count": 17,
   "id": "2598ddae-0a01-4883-ba5d-d595831d037a",
   "metadata": {},
   "outputs": [
    {
     "data": {
      "text/plain": [
       "<Image layer 'Image' at 0x2741cefce20>"
      ]
     },
     "execution_count": 17,
     "metadata": {},
     "output_type": "execute_result"
    }
   ],
   "source": [
    "viewer.layers.pop(1)"
   ]
  },
  {
   "cell_type": "code",
   "execution_count": 38,
   "id": "b2e5c8fc-c700-448e-8211-df13df6a4b81",
   "metadata": {
    "tags": []
   },
   "outputs": [
    {
     "data": {
      "text/plain": [
       "854"
      ]
     },
     "execution_count": 38,
     "metadata": {},
     "output_type": "execute_result"
    }
   ],
   "source": [
    "# free up space\n",
    "del variable1, variable2\n",
    "gc.collect()\n"
   ]
  }
 ],
 "metadata": {
  "kernelspec": {
   "display_name": "Python 3 (ipykernel)",
   "language": "python",
   "name": "python3"
  },
  "language_info": {
   "codemirror_mode": {
    "name": "ipython",
    "version": 3
   },
   "file_extension": ".py",
   "mimetype": "text/x-python",
   "name": "python",
   "nbconvert_exporter": "python",
   "pygments_lexer": "ipython3",
   "version": "3.10.4"
  }
 },
 "nbformat": 4,
 "nbformat_minor": 5
}
