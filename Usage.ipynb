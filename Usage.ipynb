{
 "cells": [
  {
   "cell_type": "markdown",
   "id": "7cdf14b8-56c8-46fc-9b5c-45cf2909b37c",
   "metadata": {},
   "source": [
    "# Usage with proper cell class documentation"
   ]
  },
  {
   "cell_type": "code",
   "execution_count": 1,
   "id": "05466cba-61ef-469e-9ce3-e5d5cb78cb30",
   "metadata": {},
   "outputs": [],
   "source": [
    "import numpy as np\n",
    "import pandas as pd\n",
    "import napari"
   ]
  },
  {
   "cell_type": "code",
   "execution_count": 2,
   "id": "c2c84b7e-8cb5-4f9b-87a0-567a7e922fb6",
   "metadata": {},
   "outputs": [],
   "source": [
    "# add in MGFeatures\n",
    "def remake_bbox(bbox_asstring, stack=True):\n",
    "    numbers = ''.join([i if i!='[' and i!=']' and i!='\\n ' else '' for i in bbox_asstring])\n",
    "    arr_flat = np.array([int(i) for i in numbers.split(' ') if i!=''])\n",
    "    if stack:\n",
    "        bbox = arr_flat.reshape((4,3))\n",
    "    else:\n",
    "        bbox = arr_flat.reshape((4,2))\n",
    "    return bbox\n",
    "\n",
    "def make_bbox_stack(slices, bbox_slice):\n",
    "    sls = [np.array([[sl_num]*4]).T for sl_num in slices]\n",
    "    bbox_stack = [np.hstack((sl, bbox)) for sl,bbox in zip(sls, bbox_slice)]\n",
    "    return bbox_stack"
   ]
  },
  {
   "cell_type": "markdown",
   "id": "08a091bc-07fd-4c74-a737-b9b7b1aebb20",
   "metadata": {},
   "source": [
    "## TODO"
   ]
  },
  {
   "cell_type": "markdown",
   "id": "2bc14b4e-7729-4d61-a598-c49e5b5ccb5e",
   "metadata": {},
   "source": [
    "## Get raw"
   ]
  },
  {
   "cell_type": "code",
   "execution_count": 12,
   "id": "fbedd55b-31f4-4d8c-b472-e1a422444e7d",
   "metadata": {},
   "outputs": [],
   "source": [
    "from Cells import Cells\n",
    "\n",
    "%load_ext autoreload\n",
    "%autoreload 2"
   ]
  },
  {
   "cell_type": "code",
   "execution_count": 13,
   "id": "45550fab-86b3-44cd-bc47-296fb4e5ecd4",
   "metadata": {},
   "outputs": [],
   "source": [
    "folder = r'D:\\Hanyi temp\\MG\\ogimg'\n",
    "raw_stack = []\n",
    "for i in range(2):\n",
    "    cell = Cells(i)\n",
    "    imageshape = cell.get_imageshape(folder)\n",
    "    raw_image = cell.img_from_tiles(folder)\n",
    "    raw_stack.append(raw_image)"
   ]
  },
  {
   "cell_type": "code",
   "execution_count": 7,
   "id": "c5848f05-86f7-4dd3-aa08-635b3263452c",
   "metadata": {},
   "outputs": [
    {
     "name": "stdout",
     "output_type": "stream",
     "text": [
      "(11, 11, 8192, 8192)\n",
      "(11, 11, 8192, 8192)\n",
      "(11, 11, 8192, 8192)\n",
      "(11, 11, 8192, 8192)\n",
      "(11, 11, 8192, 8192)\n",
      "(11, 11, 8192, 8192)\n",
      "(11, 11, 8192, 8192)\n",
      "(11, 11, 8192, 8192)\n",
      "(11, 11, 8192, 8192)\n",
      "(11, 11, 8192, 8192)\n",
      "(11, 11, 8192, 8192)\n",
      "(11, 11, 8192, 8192)\n",
      "(11, 11, 8192, 8192)\n",
      "(11, 11, 8192, 8192)\n"
     ]
    },
    {
     "ename": "MemoryError",
     "evalue": "Unable to allocate 7.56 GiB for an array with shape (90112, 90112) and data type uint8",
     "output_type": "error",
     "traceback": [
      "\u001b[1;31m---------------------------------------------------------------------------\u001b[0m",
      "\u001b[1;31mMemoryError\u001b[0m                               Traceback (most recent call last)",
      "Input \u001b[1;32mIn [7]\u001b[0m, in \u001b[0;36m<cell line: 3>\u001b[1;34m()\u001b[0m\n\u001b[0;32m      5\u001b[0m imageshape \u001b[38;5;241m=\u001b[39m cell\u001b[38;5;241m.\u001b[39mget_imageshape(folder)\n\u001b[0;32m      6\u001b[0m \u001b[38;5;28mprint\u001b[39m(imageshape)\n\u001b[1;32m----> 7\u001b[0m raw_image \u001b[38;5;241m=\u001b[39m \u001b[43mcell\u001b[49m\u001b[38;5;241;43m.\u001b[39;49m\u001b[43mimg_from_tiles\u001b[49m\u001b[43m(\u001b[49m\u001b[43mfolder\u001b[49m\u001b[43m)\u001b[49m\n\u001b[0;32m      8\u001b[0m raw_stack\u001b[38;5;241m.\u001b[39mappend(raw_image)\n",
      "File \u001b[1;32m~\\Documents\\Cells.py:63\u001b[0m, in \u001b[0;36mCells.img_from_tiles\u001b[1;34m(self, folder)\u001b[0m\n\u001b[0;32m     60\u001b[0m     imagepatches[r \u001b[38;5;241m-\u001b[39m \u001b[38;5;241m1\u001b[39m, c \u001b[38;5;241m-\u001b[39m \u001b[38;5;241m1\u001b[39m, :, :] \u001b[38;5;241m=\u001b[39m io\u001b[38;5;241m.\u001b[39mimread(imgfile)\u001b[38;5;241m.\u001b[39mastype(np\u001b[38;5;241m.\u001b[39muint8)\n\u001b[0;32m     62\u001b[0m image \u001b[38;5;241m=\u001b[39m unpatchify(imagepatches, (\u001b[38;5;28mself\u001b[39m\u001b[38;5;241m.\u001b[39mimageshape[\u001b[38;5;241m0\u001b[39m] \u001b[38;5;241m*\u001b[39m \u001b[38;5;28mself\u001b[39m\u001b[38;5;241m.\u001b[39mimageshape[\u001b[38;5;241m2\u001b[39m], \u001b[38;5;28mself\u001b[39m\u001b[38;5;241m.\u001b[39mimageshape[\u001b[38;5;241m1\u001b[39m] \u001b[38;5;241m*\u001b[39m \u001b[38;5;28mself\u001b[39m\u001b[38;5;241m.\u001b[39mimageshape[\u001b[38;5;241m3\u001b[39m]))\n\u001b[1;32m---> 63\u001b[0m image \u001b[38;5;241m=\u001b[39m \u001b[43mimage\u001b[49m\u001b[38;5;241;43m.\u001b[39;49m\u001b[43mastype\u001b[49m\u001b[43m(\u001b[49m\u001b[43mnp\u001b[49m\u001b[38;5;241;43m.\u001b[39;49m\u001b[43muint8\u001b[49m\u001b[43m)\u001b[49m\n\u001b[0;32m     65\u001b[0m \u001b[38;5;28;01mreturn\u001b[39;00m image\n",
      "\u001b[1;31mMemoryError\u001b[0m: Unable to allocate 7.56 GiB for an array with shape (90112, 90112) and data type uint8"
     ]
    }
   ],
   "source": [
    "folder = r'D:\\Hanyi temp\\MG\\ogimg'\n",
    "raw_stack = []\n",
    "for i in range(17):\n",
    "    cell = Cells(i)\n",
    "    imageshape = cell.get_imageshape(folder)\n",
    "    print(imageshape)\n",
    "    raw_image = cell.img_from_tiles(folder)\n",
    "    raw_stack.append(raw_image)"
   ]
  },
  {
   "cell_type": "code",
   "execution_count": 40,
   "id": "3152a12a-461e-430c-b634-e59e06ea6333",
   "metadata": {},
   "outputs": [],
   "source": [
    "del raw_stack"
   ]
  },
  {
   "cell_type": "code",
   "execution_count": 15,
   "id": "231c4b2d-221c-4321-9b55-8c85b1b46523",
   "metadata": {},
   "outputs": [
    {
     "name": "stdout",
     "output_type": "stream",
     "text": [
      "0.2578125 GB\n"
     ]
    }
   ],
   "source": [
    "import sys\n",
    "print('{} GB'.format(sys.getsizeof(raw_stack)/1024*3))"
   ]
  },
  {
   "cell_type": "markdown",
   "id": "c5ca939c-5de1-424a-83cf-ec87962d48e2",
   "metadata": {},
   "source": [
    "## Analysis"
   ]
  },
  {
   "cell_type": "code",
   "execution_count": 3,
   "id": "a3afab5b-cc85-477d-8571-fb95545dc91f",
   "metadata": {},
   "outputs": [],
   "source": [
    "featuresall = pd.read_excel('featuresall_v05.xlsx')"
   ]
  },
  {
   "cell_type": "code",
   "execution_count": 4,
   "id": "13090cde-32ef-4978-8cd8-1bfc0862e6aa",
   "metadata": {
    "tags": []
   },
   "outputs": [
    {
     "data": {
      "text/html": [
       "<div>\n",
       "<style scoped>\n",
       "    .dataframe tbody tr th:only-of-type {\n",
       "        vertical-align: middle;\n",
       "    }\n",
       "\n",
       "    .dataframe tbody tr th {\n",
       "        vertical-align: top;\n",
       "    }\n",
       "\n",
       "    .dataframe thead th {\n",
       "        text-align: right;\n",
       "    }\n",
       "</style>\n",
       "<table border=\"1\" class=\"dataframe\">\n",
       "  <thead>\n",
       "    <tr style=\"text-align: right;\">\n",
       "      <th></th>\n",
       "      <th>cell_area</th>\n",
       "      <th>organelles_area</th>\n",
       "      <th>nucleus_area</th>\n",
       "      <th>heterochromatin_area</th>\n",
       "      <th>lipids_area</th>\n",
       "      <th>mitochondria_area</th>\n",
       "      <th>lysosomal_area</th>\n",
       "      <th>empty_area</th>\n",
       "      <th>cytoplasm_area</th>\n",
       "      <th>ER_lengths</th>\n",
       "      <th>...</th>\n",
       "      <th>mito_organelles_R</th>\n",
       "      <th>mito_area</th>\n",
       "      <th>ERlen_cyto_R</th>\n",
       "      <th>hetchr_nucleus_R</th>\n",
       "      <th>Component1</th>\n",
       "      <th>Component2</th>\n",
       "      <th>Component3</th>\n",
       "      <th>Component4</th>\n",
       "      <th>Component5</th>\n",
       "      <th>pca_kmeans_labels</th>\n",
       "    </tr>\n",
       "  </thead>\n",
       "  <tbody>\n",
       "    <tr>\n",
       "      <th>0</th>\n",
       "      <td>80980</td>\n",
       "      <td>28480</td>\n",
       "      <td>39316</td>\n",
       "      <td>17268</td>\n",
       "      <td>3376</td>\n",
       "      <td>604</td>\n",
       "      <td>5896</td>\n",
       "      <td>13184</td>\n",
       "      <td>41664</td>\n",
       "      <td>1576.621487</td>\n",
       "      <td>...</td>\n",
       "      <td>0.021208</td>\n",
       "      <td>604</td>\n",
       "      <td>0.037841</td>\n",
       "      <td>0.439210</td>\n",
       "      <td>1.295136</td>\n",
       "      <td>-1.024184</td>\n",
       "      <td>-0.791488</td>\n",
       "      <td>1.635896</td>\n",
       "      <td>-0.624076</td>\n",
       "      <td>1</td>\n",
       "    </tr>\n",
       "    <tr>\n",
       "      <th>1</th>\n",
       "      <td>68545</td>\n",
       "      <td>16588</td>\n",
       "      <td>41028</td>\n",
       "      <td>16854</td>\n",
       "      <td>0</td>\n",
       "      <td>965</td>\n",
       "      <td>0</td>\n",
       "      <td>10929</td>\n",
       "      <td>27517</td>\n",
       "      <td>811.754394</td>\n",
       "      <td>...</td>\n",
       "      <td>0.058175</td>\n",
       "      <td>965</td>\n",
       "      <td>0.029500</td>\n",
       "      <td>0.410793</td>\n",
       "      <td>1.041161</td>\n",
       "      <td>0.148426</td>\n",
       "      <td>0.219833</td>\n",
       "      <td>-0.565449</td>\n",
       "      <td>0.494629</td>\n",
       "      <td>2</td>\n",
       "    </tr>\n",
       "    <tr>\n",
       "      <th>2</th>\n",
       "      <td>87034</td>\n",
       "      <td>33185</td>\n",
       "      <td>44767</td>\n",
       "      <td>16235</td>\n",
       "      <td>0</td>\n",
       "      <td>5547</td>\n",
       "      <td>0</td>\n",
       "      <td>9082</td>\n",
       "      <td>42267</td>\n",
       "      <td>1701.741323</td>\n",
       "      <td>...</td>\n",
       "      <td>0.167154</td>\n",
       "      <td>5547</td>\n",
       "      <td>0.040262</td>\n",
       "      <td>0.362656</td>\n",
       "      <td>-1.743781</td>\n",
       "      <td>0.474232</td>\n",
       "      <td>-0.188281</td>\n",
       "      <td>-1.424917</td>\n",
       "      <td>-0.488528</td>\n",
       "      <td>0</td>\n",
       "    </tr>\n",
       "    <tr>\n",
       "      <th>3</th>\n",
       "      <td>74590</td>\n",
       "      <td>26943</td>\n",
       "      <td>17393</td>\n",
       "      <td>9114</td>\n",
       "      <td>0</td>\n",
       "      <td>4486</td>\n",
       "      <td>0</td>\n",
       "      <td>30254</td>\n",
       "      <td>57197</td>\n",
       "      <td>1021.955404</td>\n",
       "      <td>...</td>\n",
       "      <td>0.166500</td>\n",
       "      <td>4486</td>\n",
       "      <td>0.017867</td>\n",
       "      <td>0.524004</td>\n",
       "      <td>-2.179071</td>\n",
       "      <td>2.155726</td>\n",
       "      <td>2.508667</td>\n",
       "      <td>3.681094</td>\n",
       "      <td>3.635217</td>\n",
       "      <td>5</td>\n",
       "    </tr>\n",
       "    <tr>\n",
       "      <th>4</th>\n",
       "      <td>130431</td>\n",
       "      <td>63809</td>\n",
       "      <td>50680</td>\n",
       "      <td>20881</td>\n",
       "      <td>0</td>\n",
       "      <td>5370</td>\n",
       "      <td>4077</td>\n",
       "      <td>15942</td>\n",
       "      <td>79751</td>\n",
       "      <td>4836.249235</td>\n",
       "      <td>...</td>\n",
       "      <td>0.084157</td>\n",
       "      <td>5370</td>\n",
       "      <td>0.060642</td>\n",
       "      <td>0.412017</td>\n",
       "      <td>-1.009481</td>\n",
       "      <td>-0.610771</td>\n",
       "      <td>-1.025669</td>\n",
       "      <td>0.031985</td>\n",
       "      <td>0.019936</td>\n",
       "      <td>0</td>\n",
       "    </tr>\n",
       "    <tr>\n",
       "      <th>...</th>\n",
       "      <td>...</td>\n",
       "      <td>...</td>\n",
       "      <td>...</td>\n",
       "      <td>...</td>\n",
       "      <td>...</td>\n",
       "      <td>...</td>\n",
       "      <td>...</td>\n",
       "      <td>...</td>\n",
       "      <td>...</td>\n",
       "      <td>...</td>\n",
       "      <td>...</td>\n",
       "      <td>...</td>\n",
       "      <td>...</td>\n",
       "      <td>...</td>\n",
       "      <td>...</td>\n",
       "      <td>...</td>\n",
       "      <td>...</td>\n",
       "      <td>...</td>\n",
       "      <td>...</td>\n",
       "      <td>...</td>\n",
       "      <td>...</td>\n",
       "    </tr>\n",
       "    <tr>\n",
       "      <th>929</th>\n",
       "      <td>162785</td>\n",
       "      <td>73839</td>\n",
       "      <td>59104</td>\n",
       "      <td>26995</td>\n",
       "      <td>8567</td>\n",
       "      <td>9625</td>\n",
       "      <td>0</td>\n",
       "      <td>29842</td>\n",
       "      <td>103681</td>\n",
       "      <td>3982.830848</td>\n",
       "      <td>...</td>\n",
       "      <td>0.130351</td>\n",
       "      <td>9625</td>\n",
       "      <td>0.038414</td>\n",
       "      <td>0.456737</td>\n",
       "      <td>-2.286192</td>\n",
       "      <td>0.254870</td>\n",
       "      <td>0.506727</td>\n",
       "      <td>-0.001963</td>\n",
       "      <td>0.233998</td>\n",
       "      <td>0</td>\n",
       "    </tr>\n",
       "    <tr>\n",
       "      <th>930</th>\n",
       "      <td>104354</td>\n",
       "      <td>46189</td>\n",
       "      <td>49812</td>\n",
       "      <td>19212</td>\n",
       "      <td>0</td>\n",
       "      <td>4640</td>\n",
       "      <td>0</td>\n",
       "      <td>8353</td>\n",
       "      <td>54542</td>\n",
       "      <td>2986.833812</td>\n",
       "      <td>...</td>\n",
       "      <td>0.100457</td>\n",
       "      <td>4640</td>\n",
       "      <td>0.054762</td>\n",
       "      <td>0.385690</td>\n",
       "      <td>-1.003962</td>\n",
       "      <td>-0.433802</td>\n",
       "      <td>-0.690478</td>\n",
       "      <td>-1.188833</td>\n",
       "      <td>-0.058032</td>\n",
       "      <td>0</td>\n",
       "    </tr>\n",
       "    <tr>\n",
       "      <th>931</th>\n",
       "      <td>257260</td>\n",
       "      <td>171828</td>\n",
       "      <td>76624</td>\n",
       "      <td>31989</td>\n",
       "      <td>109336</td>\n",
       "      <td>4108</td>\n",
       "      <td>0</td>\n",
       "      <td>8808</td>\n",
       "      <td>180636</td>\n",
       "      <td>259.663993</td>\n",
       "      <td>...</td>\n",
       "      <td>0.023908</td>\n",
       "      <td>4108</td>\n",
       "      <td>0.001437</td>\n",
       "      <td>0.417480</td>\n",
       "      <td>0.214660</td>\n",
       "      <td>-2.672200</td>\n",
       "      <td>2.482676</td>\n",
       "      <td>-0.749231</td>\n",
       "      <td>-1.248109</td>\n",
       "      <td>4</td>\n",
       "    </tr>\n",
       "    <tr>\n",
       "      <th>932</th>\n",
       "      <td>48279</td>\n",
       "      <td>23758</td>\n",
       "      <td>12364</td>\n",
       "      <td>5365</td>\n",
       "      <td>0</td>\n",
       "      <td>4578</td>\n",
       "      <td>0</td>\n",
       "      <td>12157</td>\n",
       "      <td>35915</td>\n",
       "      <td>964.205186</td>\n",
       "      <td>...</td>\n",
       "      <td>0.192693</td>\n",
       "      <td>4578</td>\n",
       "      <td>0.026847</td>\n",
       "      <td>0.433921</td>\n",
       "      <td>-2.416565</td>\n",
       "      <td>1.375739</td>\n",
       "      <td>1.273675</td>\n",
       "      <td>1.118812</td>\n",
       "      <td>1.448700</td>\n",
       "      <td>5</td>\n",
       "    </tr>\n",
       "    <tr>\n",
       "      <th>933</th>\n",
       "      <td>64405</td>\n",
       "      <td>26742</td>\n",
       "      <td>20770</td>\n",
       "      <td>9548</td>\n",
       "      <td>0</td>\n",
       "      <td>6928</td>\n",
       "      <td>0</td>\n",
       "      <td>16893</td>\n",
       "      <td>43635</td>\n",
       "      <td>1177.477264</td>\n",
       "      <td>...</td>\n",
       "      <td>0.259068</td>\n",
       "      <td>6928</td>\n",
       "      <td>0.026985</td>\n",
       "      <td>0.459701</td>\n",
       "      <td>-3.091983</td>\n",
       "      <td>1.984399</td>\n",
       "      <td>1.097845</td>\n",
       "      <td>0.599586</td>\n",
       "      <td>0.512531</td>\n",
       "      <td>5</td>\n",
       "    </tr>\n",
       "  </tbody>\n",
       "</table>\n",
       "<p>934 rows × 28 columns</p>\n",
       "</div>"
      ],
      "text/plain": [
       "     cell_area  organelles_area  nucleus_area  heterochromatin_area  \\\n",
       "0        80980            28480         39316                 17268   \n",
       "1        68545            16588         41028                 16854   \n",
       "2        87034            33185         44767                 16235   \n",
       "3        74590            26943         17393                  9114   \n",
       "4       130431            63809         50680                 20881   \n",
       "..         ...              ...           ...                   ...   \n",
       "929     162785            73839         59104                 26995   \n",
       "930     104354            46189         49812                 19212   \n",
       "931     257260           171828         76624                 31989   \n",
       "932      48279            23758         12364                  5365   \n",
       "933      64405            26742         20770                  9548   \n",
       "\n",
       "     lipids_area  mitochondria_area  lysosomal_area  empty_area  \\\n",
       "0           3376                604            5896       13184   \n",
       "1              0                965               0       10929   \n",
       "2              0               5547               0        9082   \n",
       "3              0               4486               0       30254   \n",
       "4              0               5370            4077       15942   \n",
       "..           ...                ...             ...         ...   \n",
       "929         8567               9625               0       29842   \n",
       "930            0               4640               0        8353   \n",
       "931       109336               4108               0        8808   \n",
       "932            0               4578               0       12157   \n",
       "933            0               6928               0       16893   \n",
       "\n",
       "     cytoplasm_area   ER_lengths  ...  mito_organelles_R mito_area  \\\n",
       "0             41664  1576.621487  ...           0.021208       604   \n",
       "1             27517   811.754394  ...           0.058175       965   \n",
       "2             42267  1701.741323  ...           0.167154      5547   \n",
       "3             57197  1021.955404  ...           0.166500      4486   \n",
       "4             79751  4836.249235  ...           0.084157      5370   \n",
       "..              ...          ...  ...                ...       ...   \n",
       "929          103681  3982.830848  ...           0.130351      9625   \n",
       "930           54542  2986.833812  ...           0.100457      4640   \n",
       "931          180636   259.663993  ...           0.023908      4108   \n",
       "932           35915   964.205186  ...           0.192693      4578   \n",
       "933           43635  1177.477264  ...           0.259068      6928   \n",
       "\n",
       "     ERlen_cyto_R  hetchr_nucleus_R  Component1  Component2  Component3  \\\n",
       "0        0.037841          0.439210    1.295136   -1.024184   -0.791488   \n",
       "1        0.029500          0.410793    1.041161    0.148426    0.219833   \n",
       "2        0.040262          0.362656   -1.743781    0.474232   -0.188281   \n",
       "3        0.017867          0.524004   -2.179071    2.155726    2.508667   \n",
       "4        0.060642          0.412017   -1.009481   -0.610771   -1.025669   \n",
       "..            ...               ...         ...         ...         ...   \n",
       "929      0.038414          0.456737   -2.286192    0.254870    0.506727   \n",
       "930      0.054762          0.385690   -1.003962   -0.433802   -0.690478   \n",
       "931      0.001437          0.417480    0.214660   -2.672200    2.482676   \n",
       "932      0.026847          0.433921   -2.416565    1.375739    1.273675   \n",
       "933      0.026985          0.459701   -3.091983    1.984399    1.097845   \n",
       "\n",
       "     Component4  Component5  pca_kmeans_labels  \n",
       "0      1.635896   -0.624076                  1  \n",
       "1     -0.565449    0.494629                  2  \n",
       "2     -1.424917   -0.488528                  0  \n",
       "3      3.681094    3.635217                  5  \n",
       "4      0.031985    0.019936                  0  \n",
       "..          ...         ...                ...  \n",
       "929   -0.001963    0.233998                  0  \n",
       "930   -1.188833   -0.058032                  0  \n",
       "931   -0.749231   -1.248109                  4  \n",
       "932    1.118812    1.448700                  5  \n",
       "933    0.599586    0.512531                  5  \n",
       "\n",
       "[934 rows x 28 columns]"
      ]
     },
     "execution_count": 4,
     "metadata": {},
     "output_type": "execute_result"
    }
   ],
   "source": [
    "featuresall.drop(columns='Unnamed: 0', inplace=True)\n",
    "featuresall"
   ]
  },
  {
   "cell_type": "code",
   "execution_count": 5,
   "id": "84462b6e-75f4-43c8-a94e-cb72b9bd641d",
   "metadata": {},
   "outputs": [],
   "source": [
    "bbox_rects = [remake_bbox(bbox_str, stack=False) for bbox_str in featuresall['bbox_rects']]"
   ]
  },
  {
   "cell_type": "code",
   "execution_count": 6,
   "id": "96fa58aa-f269-4a98-9c30-efc8493a3dbe",
   "metadata": {},
   "outputs": [],
   "source": [
    "bbox_stack = make_bbox_stack(featuresall['sl_num'], bbox_rects)"
   ]
  },
  {
   "cell_type": "code",
   "execution_count": 7,
   "id": "9c18e803-2334-4b0c-b6f5-260b6453f740",
   "metadata": {},
   "outputs": [],
   "source": [
    "pca_kmeans_labels = featuresall['pca_kmeans_labels'].values.tolist()"
   ]
  },
  {
   "cell_type": "code",
   "execution_count": 8,
   "id": "2a35df5a-1b43-4ec9-a973-20a6d03a11c2",
   "metadata": {},
   "outputs": [],
   "source": [
    "cmap = {0:'red',\n",
    "       1:'yellow',\n",
    "       2:'blue',\n",
    "       3:'green',\n",
    "       4:'orange',\n",
    "       5:'magenta'}\n",
    "clabels = [cmap.get(k) for k in pca_kmeans_labels]"
   ]
  },
  {
   "cell_type": "code",
   "execution_count": 9,
   "id": "b246ad22-ec70-402f-95bb-ac615946ee6b",
   "metadata": {
    "tags": []
   },
   "outputs": [
    {
     "data": {
      "text/plain": [
       "<Shapes layer 'bbox_stack' at 0x24fd2addf90>"
      ]
     },
     "execution_count": 9,
     "metadata": {},
     "output_type": "execute_result"
    }
   ],
   "source": [
    "viewer = napari.Viewer()\n",
    "viewer.add_shapes(data=bbox_stack,\n",
    "                 face_color=clabels)"
   ]
  },
  {
   "cell_type": "code",
   "execution_count": 16,
   "id": "6bb3f23d-a323-428d-a672-fdfdff641fa7",
   "metadata": {},
   "outputs": [
    {
     "name": "stderr",
     "output_type": "stream",
     "text": [
      "C:\\Users\\jiangh\\.conda\\envs\\MG\\lib\\site-packages\\napari\\_vispy\\layers\\image.py:231: UserWarning: data shape (90112, 90112) exceeds GL_MAX_TEXTURE_SIZE 32768 in at least one axis and will be downsampled. Rendering is currently in 2D mode.\n",
      "  warnings.warn(\n"
     ]
    },
    {
     "data": {
      "text/plain": [
       "<Image layer 'Image' at 0x24f9a52b670>"
      ]
     },
     "execution_count": 16,
     "metadata": {},
     "output_type": "execute_result"
    },
    {
     "name": "stderr",
     "output_type": "stream",
     "text": [
      "C:\\Users\\jiangh\\.conda\\envs\\MG\\lib\\site-packages\\napari\\_vispy\\layers\\image.py:231: UserWarning: data shape (90112, 90112) exceeds GL_MAX_TEXTURE_SIZE 32768 in at least one axis and will be downsampled. Rendering is currently in 2D mode.\n",
      "  warnings.warn(\n",
      "C:\\Users\\jiangh\\.conda\\envs\\MG\\lib\\site-packages\\napari\\_vispy\\layers\\image.py:231: UserWarning: data shape (90112, 90112) exceeds GL_MAX_TEXTURE_SIZE 32768 in at least one axis and will be downsampled. Rendering is currently in 2D mode.\n",
      "  warnings.warn(\n",
      "C:\\Users\\jiangh\\.conda\\envs\\MG\\lib\\site-packages\\napari\\_vispy\\layers\\image.py:231: UserWarning: data shape (90112, 90112) exceeds GL_MAX_TEXTURE_SIZE 32768 in at least one axis and will be downsampled. Rendering is currently in 2D mode.\n",
      "  warnings.warn(\n",
      "C:\\Users\\jiangh\\.conda\\envs\\MG\\lib\\site-packages\\napari\\_vispy\\layers\\image.py:231: UserWarning: data shape (90112, 90112) exceeds GL_MAX_TEXTURE_SIZE 32768 in at least one axis and will be downsampled. Rendering is currently in 2D mode.\n",
      "  warnings.warn(\n",
      "C:\\Users\\jiangh\\.conda\\envs\\MG\\lib\\site-packages\\napari\\_vispy\\layers\\image.py:231: UserWarning: data shape (90112, 90112) exceeds GL_MAX_TEXTURE_SIZE 32768 in at least one axis and will be downsampled. Rendering is currently in 2D mode.\n",
      "  warnings.warn(\n"
     ]
    }
   ],
   "source": [
    "viewer.add_image(np.array(raw_stack))"
   ]
  },
  {
   "cell_type": "code",
   "execution_count": 38,
   "id": "af0e957c-e764-4ce1-ba3f-bc214188a80d",
   "metadata": {},
   "outputs": [
    {
     "ename": "MemoryError",
     "evalue": "Unable to allocate 72.2 GiB for an array with shape (17, 139264, 32768) and data type uint8",
     "output_type": "error",
     "traceback": [
      "\u001b[1;31m---------------------------------------------------------------------------\u001b[0m",
      "\u001b[1;31mMemoryError\u001b[0m                               Traceback (most recent call last)",
      "Input \u001b[1;32mIn [38]\u001b[0m, in \u001b[0;36m<cell line: 1>\u001b[1;34m()\u001b[0m\n\u001b[1;32m----> 1\u001b[0m viewer\u001b[38;5;241m.\u001b[39madd_image(\u001b[43mnp\u001b[49m\u001b[38;5;241;43m.\u001b[39;49m\u001b[43marray\u001b[49m\u001b[43m(\u001b[49m\u001b[43mraw_stack\u001b[49m\u001b[43m)\u001b[49m)\n",
      "\u001b[1;31mMemoryError\u001b[0m: Unable to allocate 72.2 GiB for an array with shape (17, 139264, 32768) and data type uint8"
     ]
    }
   ],
   "source": [
    "viewer.add_image(np.array(raw_stack))"
   ]
  },
  {
   "cell_type": "code",
   "execution_count": null,
   "id": "ff6f7836-0fe6-41bb-9747-31b063b14257",
   "metadata": {},
   "outputs": [],
   "source": []
  }
 ],
 "metadata": {
  "kernelspec": {
   "display_name": "Python 3 (ipykernel)",
   "language": "python",
   "name": "python3"
  },
  "language_info": {
   "codemirror_mode": {
    "name": "ipython",
    "version": 3
   },
   "file_extension": ".py",
   "mimetype": "text/x-python",
   "name": "python",
   "nbconvert_exporter": "python",
   "pygments_lexer": "ipython3",
   "version": "3.10.4"
  }
 },
 "nbformat": 4,
 "nbformat_minor": 5
}
