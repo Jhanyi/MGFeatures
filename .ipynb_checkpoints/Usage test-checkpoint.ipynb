{
 "cells": [
  {
   "cell_type": "markdown",
   "id": "9350ab85-10d3-430c-b8fa-b8ac542db121",
   "metadata": {},
   "source": [
    "# Usage"
   ]
  },
  {
   "cell_type": "code",
   "execution_count": 19,
   "id": "a1a59351-45fe-4078-b63e-a78c17b734f3",
   "metadata": {},
   "outputs": [
    {
     "name": "stdout",
     "output_type": "stream",
     "text": [
      "The autoreload extension is already loaded. To reload it, use:\n",
      "  %reload_ext autoreload\n"
     ]
    }
   ],
   "source": [
    "import numpy as np\n",
    "import matplotlib.pyplot as plt\n",
    "import napari\n",
    "import os\n",
    "from MGFeatures import ER_length, img_from_tiles, label_cells\n",
    "import glob\n",
    "from skimage import io\n",
    "from patchify import patchify, unpatchify\n",
    "import gc\n",
    "\n",
    "%load_ext autoreload\n",
    "%autoreload 2"
   ]
  },
  {
   "cell_type": "code",
   "execution_count": 15,
   "id": "5b8d7e42-304b-467f-a789-e03b6fe0549f",
   "metadata": {
    "tags": []
   },
   "outputs": [],
   "source": [
    "#single slice usage\n",
    "folder = r'C:\\Users\\hanyi\\Documents\\MGs1'\n",
    "cells = img_from_tiles(folder, 1)"
   ]
  },
  {
   "cell_type": "code",
   "execution_count": 16,
   "id": "2e04e100-7eb1-4078-9179-fc9e699c1439",
   "metadata": {},
   "outputs": [],
   "source": [
    "#multi slice usage - total number slices known\n",
    "folder = r'C:\\Users\\hanyi\\Documents\\ER'\n",
    "#ER = [img_from_tiles(folder, i) for i in range(17)]\n",
    "#ER = (img_from_tiles(folder, i) for i in range(17)) # if memory error\n",
    "ER = img_from_tiles(folder, 1)"
   ]
  },
  {
   "cell_type": "code",
   "execution_count": 20,
   "id": "05e1d305-a0d1-4ec0-a801-83e315394233",
   "metadata": {},
   "outputs": [],
   "source": [
    "labels = label_cells(cells)"
   ]
  },
  {
   "cell_type": "code",
   "execution_count": 24,
   "id": "fe63ee57-d9f4-4532-8db8-3d2e9366f128",
   "metadata": {
    "tags": []
   },
   "outputs": [],
   "source": [
    "properties = {} #to be added to main function global variable\n",
    "ER_length(ER, labels)"
   ]
  },
  {
   "cell_type": "code",
   "execution_count": 57,
   "id": "1a8f296d-f2b7-42fb-a88a-74167d39fc7c",
   "metadata": {},
   "outputs": [
    {
     "data": {
      "text/plain": [
       "3818"
      ]
     },
     "execution_count": 57,
     "metadata": {},
     "output_type": "execute_result"
    }
   ],
   "source": [
    "del viewer, cells\n",
    "gc.collect()"
   ]
  },
  {
   "cell_type": "code",
   "execution_count": 58,
   "id": "3868bc48-417c-404b-a501-8a0bee959603",
   "metadata": {},
   "outputs": [
    {
     "data": {
      "text/plain": [
       "3.5000001192092896"
      ]
     },
     "execution_count": 58,
     "metadata": {},
     "output_type": "execute_result"
    }
   ],
   "source": [
    "import sys \n",
    "sys.getsizeof(ER)/(1024**3)"
   ]
  },
  {
   "cell_type": "code",
   "execution_count": 38,
   "id": "b2e5c8fc-c700-448e-8211-df13df6a4b81",
   "metadata": {
    "tags": []
   },
   "outputs": [
    {
     "data": {
      "text/plain": [
       "854"
      ]
     },
     "execution_count": 38,
     "metadata": {},
     "output_type": "execute_result"
    }
   ],
   "source": [
    "\n",
    "del variable1, variable2\n",
    "gc.collect()\n"
   ]
  }
 ],
 "metadata": {
  "kernelspec": {
   "display_name": "Python 3 (ipykernel)",
   "language": "python",
   "name": "python3"
  },
  "language_info": {
   "codemirror_mode": {
    "name": "ipython",
    "version": 3
   },
   "file_extension": ".py",
   "mimetype": "text/x-python",
   "name": "python",
   "nbconvert_exporter": "python",
   "pygments_lexer": "ipython3",
   "version": "3.10.4"
  }
 },
 "nbformat": 4,
 "nbformat_minor": 5
}
